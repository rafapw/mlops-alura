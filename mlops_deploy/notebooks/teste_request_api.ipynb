{
 "cells": [
  {
   "cell_type": "code",
   "execution_count": 1,
   "id": "bc73361c",
   "metadata": {},
   "outputs": [],
   "source": [
    "import requests"
   ]
  },
  {
   "cell_type": "code",
   "execution_count": 7,
   "id": "8d9e0508",
   "metadata": {},
   "outputs": [],
   "source": [
    "r=requests.get('http://127.0.0.1:5000/sentimento/Python%20%C3%A9%20%C3%B3timo%20para%20machine%20learning')"
   ]
  },
  {
   "cell_type": "code",
   "execution_count": 8,
   "id": "b4e50269",
   "metadata": {},
   "outputs": [
    {
     "data": {
      "text/plain": [
       "'Polaridade: 0.8'"
      ]
     },
     "execution_count": 8,
     "metadata": {},
     "output_type": "execute_result"
    }
   ],
   "source": [
    "r.text"
   ]
  }
 ],
 "metadata": {
  "kernelspec": {
   "display_name": "Python 3 (ipykernel)",
   "language": "python",
   "name": "python3"
  },
  "language_info": {
   "codemirror_mode": {
    "name": "ipython",
    "version": 3
   },
   "file_extension": ".py",
   "mimetype": "text/x-python",
   "name": "python",
   "nbconvert_exporter": "python",
   "pygments_lexer": "ipython3",
   "version": "3.9.12"
  }
 },
 "nbformat": 4,
 "nbformat_minor": 5
}
